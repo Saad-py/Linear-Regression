{
 "cells": [
  {
   "cell_type": "code",
   "execution_count": null,
   "metadata": {},
   "outputs": [],
   "source": [
    "#  [Drum Roll......] Linear Regression to predict values\n",
    "#  The formula for linear regression"
   ]
  },
  {
   "cell_type": "code",
   "execution_count": 2,
   "metadata": {},
   "outputs": [],
   "source": [
    "# Importing everything\n",
    "# I have imported sklearn and then linear_model to ignore an error.\n",
    "import pandas as pd\n",
    "import sklearn\n",
    "import numpy as np\n",
    "from sklearn.linear_model import LinearRegression \n"
   ]
  },
  {
   "cell_type": "code",
   "execution_count": 3,
   "metadata": {},
   "outputs": [],
   "source": [
    "data = pd.read_csv('d.csv', sep=\";\")\n",
    "# Reading the csv using pandas"
   ]
  },
  {
   "cell_type": "code",
   "execution_count": 4,
   "metadata": {},
   "outputs": [
    {
     "name": "stdout",
     "output_type": "stream",
     "text": [
      "    Panels   Watts  KiloWatts\n",
      "0      200   50000      50.00\n",
      "1      400  100000     100.00\n",
      "2      100   25000      25.00\n",
      "3      200   50000      50.00\n",
      "4        1     250       0.25\n",
      "5       45   11250      11.25\n",
      "6      200   50000      50.00\n",
      "7      200   50000      50.00\n",
      "8      200   50000      50.00\n",
      "9      200   50000      50.00\n",
      "10     200   50000      50.00\n",
      "11     200   50000      50.00\n"
     ]
    }
   ],
   "source": [
    "print(data)\n",
    "# Just chekcing the data is correct as per to the csv file"
   ]
  },
  {
   "cell_type": "code",
   "execution_count": 5,
   "metadata": {},
   "outputs": [],
   "source": [
    "lin = LinearRegression()\n",
    "x = np.array(data['Panels'])\n",
    "y = np.array(data['KiloWatts'])\n",
    "#  making Linear regression simpler and making np arrays for the 2 colunms here you can change y = np.array(data['Watts']) also"
   ]
  },
  {
   "cell_type": "code",
   "execution_count": null,
   "metadata": {},
   "outputs": [],
   "source": [
    "# Blank line for no reason"
   ]
  },
  {
   "cell_type": "code",
   "execution_count": 6,
   "metadata": {},
   "outputs": [
    {
     "data": {
      "text/plain": [
       "LinearRegression()"
      ]
     },
     "execution_count": 6,
     "metadata": {},
     "output_type": "execute_result"
    }
   ],
   "source": [
    "#  Reshaping the arrays into 2 dimensional arrays and fitting them into the linear regressor\n",
    "x = x.reshape(-1, 1)\n",
    "y = y.reshape(-1, 1)\n",
    "lin.fit(x, y)"
   ]
  },
  {
   "cell_type": "code",
   "execution_count": 7,
   "metadata": {},
   "outputs": [
    {
     "name": "stdout",
     "output_type": "stream",
     "text": [
      "[[0.25]\n",
      " [0.5 ]\n",
      " [0.75]\n",
      " [1.  ]]\n"
     ]
    }
   ],
   "source": [
    "#  making the test array and note the result will always be the test number divided by two as per my custom formula\n",
    "test_x = np.array([1, 2, 3, 4])\n",
    "# Reshape the array [There should be a parameter when making arrays to make the array into 2d]\n",
    "test_x = test_x.reshape(-1, 1)\n",
    "# Main line here z is the result or prediction\n",
    "z = lin.predict(test_x)\n",
    "# if you follow my code the output should be\n",
    "# 0.25, 0.5, 0.75, 1.\n",
    "# Print() to check\n",
    "print(z)"
   ]
  },
  {
   "cell_type": "code",
   "execution_count": 8,
   "metadata": {},
   "outputs": [
    {
     "data": {
      "text/plain": [
       "\"About the Data Set:\\nThis is a data set made by me about how many watts do solar panel genrate so it's not a big deal\\n1 panel generates 250 watts as per the first answer on google\""
      ]
     },
     "execution_count": 8,
     "metadata": {},
     "output_type": "execute_result"
    }
   ],
   "source": [
    "\"\"\"About the Data Set:\n",
    "This is a data set made by me about how many watts do solar panel genrate so it's not a big deal\n",
    "1 panel generates 250 watts as per the first answer on google\"\"\""
   ]
  },
  {
   "cell_type": "code",
   "execution_count": null,
   "metadata": {},
   "outputs": [],
   "source": []
  }
 ],
 "metadata": {
  "kernelspec": {
   "display_name": "Python 3",
   "language": "python",
   "name": "python3"
  },
  "language_info": {
   "codemirror_mode": {
    "name": "ipython",
    "version": 3
   },
   "file_extension": ".py",
   "mimetype": "text/x-python",
   "name": "python",
   "nbconvert_exporter": "python",
   "pygments_lexer": "ipython3",
   "version": "3.8.5"
  }
 },
 "nbformat": 4,
 "nbformat_minor": 4
}
